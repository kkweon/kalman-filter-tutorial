{
 "cells": [
  {
   "cell_type": "markdown",
   "metadata": {},
   "source": [
    "# Kalman Filter Simple Steps\n",
    "\n",
    "First, let's start with 2-D.\n",
    "\n",
    "1. Calculate Kalman Gain. $$ KG = \\frac{E_{EST}}{E_{EST} + E_{MEA}}$$ where $E_{EST}$ means an Error in Estimate and $E_{MEA}$ means an error in measurement. Please notice $$ 0 <= KG <= 1 $$\n",
    "2. Compute a next Estimate. $$EST_{t} = EST_{t - 1} + KG(MEA - EST_{t -1})$$\n",
    "3. Compute a new error in estimate. \n",
    "\\begin{align*}\n",
    "E_{EST_t} &= \\frac{E_{MEA} \\cdot E_{EST_{t-1}} } { E_{MEA} + E_{EST_{t-1}}} \\\\\n",
    "                &= (1 - KG) \\cdot E_{EST_{t-1}}\n",
    "\\end{align*}"
   ]
  },
  {
   "cell_type": "markdown",
   "metadata": {},
   "source": [
    "## Simple Example\n",
    "- Suppose there is a thermostat that measure a room's temperature\n",
    "- True Temperature: 72\n",
    "- Initial Guess(Estimate): 60\n",
    "- Measurement: 75\n",
    "- Error in Estimate: 2\n",
    "- Error in Measurement: 4"
   ]
  },
  {
   "cell_type": "code",
   "execution_count": 1,
   "metadata": {
    "collapsed": true
   },
   "outputs": [],
   "source": [
    "import numpy as np"
   ]
  },
  {
   "cell_type": "code",
   "execution_count": 2,
   "metadata": {
    "collapsed": true
   },
   "outputs": [],
   "source": [
    "def get_kalman_gain(err_estimate, err_measure):\n",
    "    return err_estimate / (err_estimate + err_measure)\n",
    "\n",
    "def get_new_estimate(KG, previous_estimate, measurement):\n",
    "    return previous_estimate + KG * (measurement - previous_estimate)\n",
    "\n",
    "def get_new_estimate_error(KG, previous_error):\n",
    "    return (1 - KG) * previous_error"
   ]
  },
  {
   "cell_type": "markdown",
   "metadata": {},
   "source": [
    "#### We can see every several steps it approaches to the true temperature eventually."
   ]
  },
  {
   "cell_type": "code",
   "execution_count": 3,
   "metadata": {
    "collapsed": false
   },
   "outputs": [
    {
     "name": "stdout",
     "output_type": "stream",
     "text": [
      "Estimate: 63.66992340010672\n",
      "Estimate: 66.57172829318046\n",
      "Estimate: 67.57520785069819\n",
      "Estimate: 68.73452440629119\n",
      "Estimate: 68.85865705531286\n",
      "Estimate: 69.23812686691292\n",
      "Estimate: 69.64975555658053\n",
      "Estimate: 70.01166255407522\n",
      "Estimate: 70.2996315327791\n",
      "Estimate: 70.75936061363731\n",
      "Estimate: 71.95270176617466\n"
     ]
    }
   ],
   "source": [
    "estimate = 60\n",
    "size = 1000\n",
    "measurement = np.random.normal(loc = 72, scale = 4, size = size)\n",
    "error_estimate = 2\n",
    "error_measure = 4\n",
    "\n",
    "for i, measurement in enumerate(measurement):\n",
    "    KG = get_kalman_gain(error_estimate, error_measure)\n",
    "    estimate = get_new_estimate(KG, estimate, measurement)\n",
    "    error_estimate = get_new_estimate_error(KG, error_estimate)\n",
    "        \n",
    "    msg = f\"\"\"\n",
    "\n",
    "Kalman Gain: {KG}\n",
    "Measurement: {measurement}\n",
    "Estimate: {estimate}\n",
    "----------------------\n",
    "True Value: {72}\n",
    "----------------------\n",
    "Error in Estimate: {error_estimate}\n",
    "    \"\"\"\n",
    "    \n",
    "    \n",
    "    if i % size // 10 == 0 or i == size -1 or i == 0:\n",
    "        #print(msg)\n",
    "        print(f\"Estimate: {estimate}\")\n",
    "    "
   ]
  },
  {
   "cell_type": "markdown",
   "metadata": {},
   "source": [
    "The easy way to see how it works is to visualize in a table"
   ]
  },
  {
   "cell_type": "markdown",
   "metadata": {},
   "source": [
    "Assume the initial estimate is 68 and measurements are [75, 71, 70]."
   ]
  },
  {
   "cell_type": "markdown",
   "metadata": {},
   "source": [
    "|     | $MEA$ | $E_{MEA}$ | $EST$ | $E_{EST_{t-1}}$ | $KG$ | $E_{EST_t}$ |\n",
    "|----|-----------|----------------|---------|---------------------|----------|-----------------|\n",
    "|$t-1$|              |                     |     68       |       2                    |            |                      |      \n",
    "|$t    $|      75        |         4            |       70.33     |                           |     0.33          |   1.33                     |\n",
    "|$t+1$|      71        |        4             |     70.50       |                           |     0.25         |    1.00                  |\n",
    "|$t+2$|       70       |       4              |       70.40     |                           |     0.20          |    0.80                  |"
   ]
  },
  {
   "cell_type": "markdown",
   "metadata": {
    "collapsed": true
   },
   "source": [
    "## Multi-dimensional Kalman Filter\n",
    "\n",
    "First of all, I'm going to write down the whole process first and explain each step in details later.\n",
    "\n",
    "1. There is an initial state X such as $$\\mathbf{X_0} = \\begin{bmatrix} \n",
    "                                                                    X_0 \\\\\n",
    "                                                                    P_0\n",
    "                                                           \\end{bmatrix}         $$\n",
    "\n",
    "2. Then, we can get a new state or predicted state:\n",
    "$$\\begin{align}\n",
    "\\mathbf{X_{t_p}} &= \\mathbf{A} \\cdot \\mathbf{X_{t-1}} + \\mathbf{B} \\cdot \\mathbf{u_t} + \\mathbf{w_t} \\\\\n",
    "\\mathbf{P_{t_p}} &= \\mathbf{A} \\cdot  \\mathbf{ P_{t-1}} \\mathbf{A^T} + \\mathbf{Q_t} \\\\\n",
    "\\end{align}$$\n",
    "where \n",
    "    - $\\mathbf{X_{t_p}}$: New Predicted State\n",
    "    - $\\mathbf{u_k}$: Control Variable like acceleration, gravity, etc.\n",
    "    - $\\mathbf{w}$: Predicted State Noise Matrix\n",
    "    - $\\mathbf{Q}$: Process noise Covariance Matrix    \n",
    "    - $\\mathbf{P}$: Process Covariance Matrix (Represents an error in estimate)    \n",
    "    - $\\mathbf{A}, \\mathbf{B}, ...$: a helper matrix (State Transition Matrix, Control Input Matrix, ...)\n",
    "\n",
    "3. Update Kalman Gain:\n",
    "$$\n",
    "    \\begin{align}\n",
    "        \\mathbf{K} &= \\frac{\\mathbf{P_{t_p}} \\cdot \\mathbf{H}} {\\mathbf{H} \\cdot \\mathbf{P_{t_p}} \\cdot \\mathbf{H^T} + \\mathbf{R}} \\\\\n",
    "        \\mathbf{X_t} &= \\mathbf{X_{t_p}} + \\mathbf{K}[\\mathbf{Y} - \\mathbf{H} \\cdot \\mathbf{X_{t_p}} ]\n",
    "    \\end{align}\n",
    "$$\n",
    "where\n",
    "$$\n",
    "    \\begin{align}\n",
    "        \\mathbf{Y_t} &= \\mathbf{C} \\cdot \\mathbf{X_{t_m}} + \\mathbf{Z_t}\n",
    "     \\end{align}\n",
    "$$\n",
    "where\n",
    "    - $\\mathbf{R}$: Sensor Noise Covariance Matrix (Error in Measurement)\n",
    "    - $\\mathbf{Z_t}$: Uncertainty\n",
    "    - $\\mathbf{C}$: the transformation matrix that maps the state vector parameters into the measurement domain\n",
    "4. Update new $\\mathbf{P_t}$ and $\\mathbf{X_t}$:\n",
    "$$\n",
    "    \\begin{align}\n",
    "        \\mathbf{P_t} &= \\left( \\mathbf{I} - \\mathbf{K} \\cdot \\mathbf{H} \\right) \\cdot \\mathbf{P_{t_p}} \\\\\n",
    "        \\mathbf{X_t}\n",
    "    \\end{align}\n",
    "$$\n",
    "5. Repeat from step 2 again."
   ]
  },
  {
   "cell_type": "markdown",
   "metadata": {
    "collapsed": true
   },
   "source": [
    "## Covariance Matrix Example\n",
    "\n",
    "Covariance matrix plays a key role in kalman filter. So, let's quickly review one example.\n",
    "\n",
    "Suppose there are two random variables, $\\mathbf{X}$ and $\\mathbf{Y}$.\n",
    "\n",
    "\\begin{align*}\n",
    "    Var(X) &= \\frac{1}{N} \\sum_i^N (x_i - \\bar{x_i})^2 \\\\ \\\\\n",
    "    Cov(X, Y) &= \\frac{1}{N} \\sum_i^N (x_i - \\bar{x_i})(y_i - \\bar{y_i})     \n",
    "\\end{align*}\n",
    "\n",
    "$Cov(X, Y)$ can be also written as $\\sigma_{XY}$."
   ]
  },
  {
   "cell_type": "markdown",
   "metadata": {},
   "source": [
    "#### Example. \n",
    "\n",
    "Each column means one randome variable, say $\\mathbf{X}, \\mathbf{Y}, \\mathbf{Z}$."
   ]
  },
  {
   "cell_type": "code",
   "execution_count": 4,
   "metadata": {
    "collapsed": false
   },
   "outputs": [
    {
     "data": {
      "text/plain": [
       "array([ 4.1,  2.1,  0.6])"
      ]
     },
     "execution_count": 4,
     "metadata": {},
     "output_type": "execute_result"
    }
   ],
   "source": [
    "A = np.array([[ 4.  ,  2.  ,  0.6    ],\n",
    "                       [ 4.2 ,  2.1 ,  0.59],\n",
    "                       [ 3.9 ,  2.  ,  0.56 ],\n",
    "                       [ 4.3 ,  2.1 ,  0.62],\n",
    "                       [ 4.1 ,  2.3 ,  0.63]])\n",
    "mean_list = np.mean(A, axis=0)\n",
    "mean_list"
   ]
  },
  {
   "cell_type": "code",
   "execution_count": 5,
   "metadata": {
    "collapsed": false
   },
   "outputs": [
    {
     "data": {
      "text/plain": [
       "array([[-0.1 , -0.1 ,  0.  ],\n",
       "       [ 0.1 ,  0.  , -0.01],\n",
       "       [-0.2 , -0.1 , -0.04],\n",
       "       [ 0.2 ,  0.  ,  0.02],\n",
       "       [ 0.  ,  0.2 ,  0.03]])"
      ]
     },
     "execution_count": 5,
     "metadata": {},
     "output_type": "execute_result"
    }
   ],
   "source": [
    "A_mean_subtracted = A - mean_list\n",
    "A_mean_subtracted"
   ]
  },
  {
   "cell_type": "code",
   "execution_count": 6,
   "metadata": {
    "collapsed": false
   },
   "outputs": [
    {
     "name": "stdout",
     "output_type": "stream",
     "text": [
      "Variance: [ 0.02    0.012   0.0006]\n",
      "Cov(X, Y): 0.0060\n",
      "Cov(X, Z): 0.0022\n",
      "Cov(Y, Z): 0.0020\n"
     ]
    }
   ],
   "source": [
    "var_X = np.var(A, axis=0)\n",
    "cov_XY = np.mean(A_mean_subtracted[:, 0] * A_mean_subtracted[:, 1])\n",
    "cov_XZ = np.mean(A_mean_subtracted[:, 0] * A_mean_subtracted[:, 2])\n",
    "cov_YZ = np.mean(A_mean_subtracted[:, 1] * A_mean_subtracted[:, 2])\n",
    "\n",
    "print (\"Variance: {}\".format(var_X))\n",
    "print (\"Cov(X, Y): {:.4f}\".format(cov_XY))\n",
    "print (\"Cov(X, Z): {:.4f}\".format(cov_XZ))\n",
    "print (\"Cov(Y, Z): {:.4f}\".format(cov_YZ))"
   ]
  },
  {
   "cell_type": "code",
   "execution_count": 7,
   "metadata": {
    "collapsed": false
   },
   "outputs": [
    {
     "data": {
      "text/plain": [
       "array([[ 0.02  ,  0.006 ,  0.0022],\n",
       "       [ 0.006 ,  0.012 ,  0.002 ],\n",
       "       [ 0.0022,  0.002 ,  0.0006]])"
      ]
     },
     "execution_count": 7,
     "metadata": {},
     "output_type": "execute_result"
    }
   ],
   "source": [
    "np.cov(A, rowvar=False, bias=True) # check if we get the same value "
   ]
  },
  {
   "cell_type": "markdown",
   "metadata": {},
   "source": [
    "#### Another way to calculate covariance matrix by linear algebra\n",
    "\n",
    "Say there is a matrix with M obeservations and N variables. Then, \n",
    "\n",
    "$$ \\text{Covariance Matrix} =  \\frac{\\mathbb{a}^T \\mathbb{a}} {M}  $$\n",
    "\n",
    "where $$a = A - ones(M, M) \\cdot A \\cdot \\left( \\frac{1}{M} \\right)$$\n",
    "\n",
    "a is called a deviation matrix"
   ]
  },
  {
   "cell_type": "code",
   "execution_count": 8,
   "metadata": {
    "collapsed": false
   },
   "outputs": [
    {
     "data": {
      "text/plain": [
       "array([[ 0.02  ,  0.006 ,  0.0022],\n",
       "       [ 0.006 ,  0.012 ,  0.002 ],\n",
       "       [ 0.0022,  0.002 ,  0.0006]])"
      ]
     },
     "execution_count": 8,
     "metadata": {},
     "output_type": "execute_result"
    }
   ],
   "source": [
    "a = A - np.ones(shape = (A.shape[0], A.shape[0])).dot(A) / A.shape[0]\n",
    "a.transpose().dot(a)/A.shape[0]"
   ]
  },
  {
   "cell_type": "code",
   "execution_count": 9,
   "metadata": {
    "collapsed": false
   },
   "outputs": [
    {
     "data": {
      "text/plain": [
       "array([[ 0.02  ,  0.006 ,  0.0022],\n",
       "       [ 0.006 ,  0.012 ,  0.002 ],\n",
       "       [ 0.0022,  0.002 ,  0.0006]])"
      ]
     },
     "execution_count": 9,
     "metadata": {},
     "output_type": "execute_result"
    }
   ],
   "source": [
    "## or use broadcast\n",
    "a = A - np.mean(A, axis=0)\n",
    "a.transpose().dot(a)/A.shape[0]"
   ]
  },
  {
   "cell_type": "markdown",
   "metadata": {
    "collapsed": true
   },
   "source": [
    "## Real Example\n",
    "\n",
    "1. $x_0 = 50$ $m$\n",
    "2. $\\dot{x_0} = v_0 = 5$ $m/sec$\n",
    "3. $a_0 = 2$ $m/sec^2$\n",
    "\n",
    "There is a $X$ such that\n",
    "$$ X = \\begin{bmatrix} x\\\\ \\dot{x} \\end{bmatrix} $$\n",
    "\n",
    "And process variation standard deviation is given\n",
    "\n",
    "1. $\\sigma_x = 0.5m$\n",
    "2. $\\sigma_{\\dot{x}} = 0.2m/sec$\n",
    "3. For simplicity, we just make a guess such that $\\sigma_{x\\dot{x}} = \\sigma_x \\cdot \\sigma_{\\dot{x}} = 0.1$\n",
    "    - However, it's important to know $$Correlation(X, Y) = \\frac{Cov(X, Y)}{SD(X) SD(Y)}$$ we're just making a guess here.\n",
    "\n",
    "There is a $P$($P$ stands for Process or Estimate Error) such that\n",
    "$$ \n",
    "\\begin{align}\n",
    "P &= \\begin{bmatrix}\n",
    "                    \\sigma_x^2    &    \\sigma_{x\\dot{x}} \\\\\n",
    "                    \\sigma_{\\dot{x}x}    &    \\sigma_{\\dot{x}}^2 \\\\\n",
    "            \\end{bmatrix} \\\\\n",
    " P_0   &= \\begin{bmatrix}\n",
    "                    0.25 & 0.1 \\\\\n",
    "                    0.1 & 0.04\n",
    "            \\end{bmatrix} \\\\\n",
    "\\end{align}\n",
    "$$"
   ]
  },
  {
   "cell_type": "markdown",
   "metadata": {},
   "source": [
    "## Tracking an airplane example\n",
    "\n",
    "Given Information:\n",
    "\n",
    "- $x_0 = 4000\\ m$\n",
    "- $v_{x_0} = 280\\ m/\\sec$\n",
    "- $v_{y_0} = 120\\ m/\\sec$\n",
    "\n",
    "Observations:\n",
    "\n",
    "|       | $x_0$                |  $v_{x_0}$          |\n",
    "|-----|-------- |-----------------|\n",
    "|0   |4,000 | 280|\n",
    "|1   |4,260 | 282|\n",
    "|2   |4,550 | 285|\n",
    "|3   |4,860 | 286|\n",
    "|4   |5,110 | 290|\n",
    "\n",
    "\n",
    "Initial Conditions:\n",
    "\n",
    "| $a_x$ | $v_x$ | $\\Delta t$ | $\\Delta x $ |\n",
    "|---------|---------|----------------|------------------|\n",
    "|2 $m/sec^2$|280 $m/sec$|1 $sec$|25 $m$|\n",
    "\n",
    "Process Errors in Process Covariance Matrix:\n",
    "\\begin{align}\n",
    "        \\Delta P_x       &= 20 \\\\\n",
    "        \\Delta P_{v_x} &= 5\n",
    "\\end{align}\n",
    "\n",
    "Observation Errors:\n",
    "\n",
    "\\begin{align}\n",
    "    \\Delta x       &= 25 &\\text{ (observation error) }\\\\\n",
    "    \\Delta v_{x} &= 6\n",
    "\\end{align}"
   ]
  },
  {
   "cell_type": "markdown",
   "metadata": {
    "collapsed": true
   },
   "source": [
    "# Step by Step Explanation\n",
    "First we will assume it's one dimension (it's almost identical to make it 2-D coordinates). We also assume the error is zero which means $w_k = 0$.\n",
    "\n",
    "#### 1. Calculate the predicted state.\n",
    "\n",
    "$$\n",
    "\\begin{align}\n",
    "X_{t_p} &=   A X_{t-1} + B u_t + w_t \\\\\n",
    "             &= \\begin{bmatrix}\n",
    "                         1 & \\Delta t \\\\\n",
    "                         0 & 1 \\\\\n",
    "                    \\end{bmatrix}                \\begin{bmatrix} \n",
    "                                                                        X_0 \\\\\n",
    "                                                                        V_{X_0} \\\\\n",
    "                                                             \\end{bmatrix}        + \\begin{bmatrix}   \n",
    "                                                                                                         \\frac{1}{2} \\Delta t^2 \\\\\n",
    "                                                                                                         \\Delta t \\\\\n",
    "                                                                                                 \\end{bmatrix}  \\left[ a_{X_0} \\right] + 0 \n",
    "\\end{align}\n",
    "$$"
   ]
  },
  {
   "cell_type": "code",
   "execution_count": 10,
   "metadata": {
    "collapsed": false
   },
   "outputs": [
    {
     "name": "stdout",
     "output_type": "stream",
     "text": [
      "A=\n",
      "[[1 1]\n",
      " [0 1]]\n",
      "X=\n",
      "[[4000]\n",
      " [ 280]]\n",
      "B=\n",
      "[[ 0.5]\n",
      " [ 1. ]]\n",
      "u=2\n",
      "\n",
      "Predicted (new) State:\n",
      " [[ 4281.]\n",
      " [  282.]]\n"
     ]
    }
   ],
   "source": [
    "A = np.array([[1, 1], [0, 1]])\n",
    "X = np.array([[4000], [280]])\n",
    "B = np.array([[0.5], [1]])\n",
    "u = 2\n",
    "\n",
    "print (\"\"\"A=\n",
    "{}\n",
    "X=\n",
    "{}\n",
    "B=\n",
    "{}\n",
    "u={}\n",
    "\"\"\".format(A, X, B, u))\n",
    "\n",
    "X = A.dot(X) + B * u\n",
    "print(\"Predicted (new) State:\\n\", X)"
   ]
  },
  {
   "cell_type": "markdown",
   "metadata": {},
   "source": [
    "#### 2. Calculate Process Covariance Matrix (P)\n",
    "\n",
    "$$P_{k-1} = \\begin{bmatrix}\n",
    "                            \\sigma_x^2    &    \\sigma_{xv} \\\\\n",
    "                            \\sigma_{vx}    &    \\sigma_v^2 \\\\\n",
    "                     \\end{bmatrix} $$"
   ]
  },
  {
   "cell_type": "code",
   "execution_count": 11,
   "metadata": {
    "collapsed": false
   },
   "outputs": [],
   "source": [
    "P = np.array([[20*20, 20 * 5],\n",
    "                       [5 * 20, 5 * 5 ]])\n",
    "\n",
    "# To make it simple, we will assume there is zero covaraiance though.\n",
    "P = np.array([[400, 0],\n",
    "                       [0,    25]])"
   ]
  },
  {
   "cell_type": "markdown",
   "metadata": {},
   "source": [
    "#### 3. Calculate predicted process covriance matrix\n",
    "\n",
    "$$P_{k_p} = A \\cdot P_{k-1} \\cdot A^T + Q_k$$\n",
    "\n",
    "$Q$ is a process covariance noise but we will assume it to be zero here."
   ]
  },
  {
   "cell_type": "code",
   "execution_count": 12,
   "metadata": {
    "collapsed": false
   },
   "outputs": [
    {
     "name": "stdout",
     "output_type": "stream",
     "text": [
      "Predicted P = \n",
      "[[425   0]\n",
      " [  0  25]]\n"
     ]
    }
   ],
   "source": [
    "new_P = A.dot(P).dot(A.transpose()) - np.fliplr(np.diag(np.diag(np.fliplr(A.dot(P).dot(A.transpose()) ))))\n",
    "print(\"Predicted P = \", new_P, sep='\\n')"
   ]
  },
  {
   "cell_type": "markdown",
   "metadata": {},
   "source": [
    "#### 4. Calculate the Kalman Gain\n",
    "$$ K = \\frac{P_{k_p}  \\cdot H^T}{ H \\cdot P_{k_p} \\cdot H^T + R } $$\n",
    "\n",
    "- $H$: just keeps the dimension of P matched to the dimension of Kalman Gain. Hence it's identity matrix (2 x 2) here.\n",
    "- $R$: measurement(observation) error\n",
    "    - We were assuming that $\\Delta x = 25$ and $\\Delta v_x = 6$\n",
    "    - Therefore, $R = \\begin{bmatrix}\n",
    "                                        25 * 25 & 0 \\\\\n",
    "                                        0 & 6 * 6 \\end{bmatrix} $"
   ]
  },
  {
   "cell_type": "code",
   "execution_count": 13,
   "metadata": {
    "collapsed": false
   },
   "outputs": [
    {
     "name": "stdout",
     "output_type": "stream",
     "text": [
      "Kalman Gain Matrix = \n",
      "[[ 0.4047619   0.        ]\n",
      " [ 0.          0.40983607]]\n"
     ]
    }
   ],
   "source": [
    "P = new_P\n",
    "R = np.array([[25*25, 1e-7], [1e-7, 6*6]])\n",
    "H = np.identity(2)\n",
    "K = P.dot(H.transpose()) / (H.dot(P).dot(H.transpose()) + R)\n",
    "print(\"Kalman Gain Matrix = \", K, sep=\"\\n\")"
   ]
  },
  {
   "cell_type": "markdown",
   "metadata": {},
   "source": [
    "Since $K << 1$, it implies we don't want to heavily depend on observations."
   ]
  },
  {
   "cell_type": "markdown",
   "metadata": {},
   "source": [
    "#### 5. New observation\n",
    "$$ Y_k = C \\cdot Y_{k_m} + Z_k $$\n",
    "\n",
    "- $Z_k$: uncertainty (assuming it to be zero)\n",
    "- $C$: is just a mapping function to keep the dimension correct, so 2 x 2 identity matrix here"
   ]
  },
  {
   "cell_type": "code",
   "execution_count": 14,
   "metadata": {
    "collapsed": false
   },
   "outputs": [
    {
     "name": "stdout",
     "output_type": "stream",
     "text": [
      "Y = \n",
      "[[ 4260.]\n",
      " [  282.]]\n"
     ]
    }
   ],
   "source": [
    "C = np.identity(2)\n",
    "new_Y = np.array([[4260], [282]])\n",
    "Y = C.dot(new_Y)\n",
    "print(\"Y = \", Y, sep='\\n')"
   ]
  },
  {
   "cell_type": "markdown",
   "metadata": {},
   "source": [
    "#### 6. Finally, we can calculate the current state\n",
    "\n",
    "$$ X_k = X_{k_p} + K[Y_k - H \\cdot X_{k_p} ] $$"
   ]
  },
  {
   "cell_type": "code",
   "execution_count": 15,
   "metadata": {
    "collapsed": false
   },
   "outputs": [
    {
     "name": "stdout",
     "output_type": "stream",
     "text": [
      "Current State:\n",
      "[[ 4272.5]\n",
      " [  282. ]]\n"
     ]
    }
   ],
   "source": [
    "X_real = X + K.dot(Y - H.dot(X))\n",
    "print(\"Current State:\")\n",
    "print(X_real)"
   ]
  },
  {
   "cell_type": "markdown",
   "metadata": {},
   "source": [
    "#### 7. Update the process covariance matrix for a next iteration\n",
    "\n",
    "$$ P_k = (I - KH) P_{k_p} $$"
   ]
  },
  {
   "cell_type": "code",
   "execution_count": 16,
   "metadata": {
    "collapsed": false
   },
   "outputs": [
    {
     "name": "stdout",
     "output_type": "stream",
     "text": [
      "P real:\n",
      "[[ 252.97619048    0.        ]\n",
      " [   0.           14.75409836]]\n"
     ]
    }
   ],
   "source": [
    "P_real = (np.identity(2) - K.dot(H)).dot(P)\n",
    "print(\"P real:\")\n",
    "print(P_real)"
   ]
  },
  {
   "cell_type": "markdown",
   "metadata": {},
   "source": [
    "#### 8. Finished one iteration. Now we have to repeat \n",
    "\n",
    "- $X_{k_p} = A X_{k-1} + B u_k + w_k$\n",
    "- $P_{k_p} = A P_{k-1} A^T + Q_k $"
   ]
  },
  {
   "cell_type": "code",
   "execution_count": 17,
   "metadata": {
    "collapsed": false
   },
   "outputs": [
    {
     "name": "stdout",
     "output_type": "stream",
     "text": [
      "X_pred: \n",
      "[[ 4555.5]\n",
      " [  284. ]]\n",
      "P_pred: \n",
      "[[ 267.73028884   14.75409836]\n",
      " [  14.75409836   14.75409836]]\n"
     ]
    }
   ],
   "source": [
    "X_pred = A.dot(X_real) + B.dot(u)\n",
    "P_pred = A.dot(P_real).dot(A.transpose())\n",
    "\n",
    "print (\"X_pred: \")\n",
    "print(X_pred)\n",
    "\n",
    "print(\"P_pred: \")\n",
    "print(P_pred)"
   ]
  },
  {
   "cell_type": "code",
   "execution_count": 18,
   "metadata": {
    "collapsed": true
   },
   "outputs": [],
   "source": [
    "## All in one\n",
    "def predict_state_process(A, X, B, u, P, w = 0, q = 0):\n",
    "    X_pred = A.dot(X) + B.dot(u) + w\n",
    "    P_pred = A.dot(P).dot(A.transpose()) + q\n",
    "    \n",
    "    return [X_pred, P_pred]\n",
    "\n",
    "def get_kalman_gain(P, H, R):\n",
    "    return P.dot(H.transpose()) / (H.dot(P).dot(H.transpose()) + R)\n",
    "\n",
    "def get_observation(C, Y, z = 0):\n",
    "    return C.dot(Y) + z\n",
    "\n",
    "def get_real_state_process(X, K, Y, H, P):\n",
    "    X_real = X + K.dot(Y - H.dot(X))\n",
    "    P_real = (np.identity(np.shape(K.dot(H))[0]) - K.dot(H)).dot(P)\n",
    "    \n",
    "    return X_real, P_real"
   ]
  },
  {
   "cell_type": "code",
   "execution_count": 19,
   "metadata": {
    "collapsed": true
   },
   "outputs": [],
   "source": [
    "observations = np.array([\n",
    "    [4000, 280],\n",
    "    [4260, 282],\n",
    "    [4550, 285],\n",
    "    [4860, 286],\n",
    "    [5110, 290]\n",
    "])"
   ]
  },
  {
   "cell_type": "code",
   "execution_count": 20,
   "metadata": {
    "collapsed": false
   },
   "outputs": [
    {
     "name": "stdout",
     "output_type": "stream",
     "text": [
      "==========================================\n",
      "X state: \n",
      "[[ 4272.5]\n",
      " [  282. ]]\n",
      "------------------------------------------\n",
      "P state:\n",
      "[[ 252.97619048    0.        ]\n",
      " [   0.           14.75409836]]\n",
      "==========================================\n",
      "X state: \n",
      "[[ 4553.85054707]\n",
      " [  284.29069767]]\n",
      "------------------------------------------\n",
      "P state:\n",
      "[[ 187.4378327     0.        ]\n",
      " [   0.           10.46511628]]\n",
      "==========================================\n",
      "X state: \n",
      "[[ 4844.15764332]\n",
      " [  286.22522523]]\n",
      "------------------------------------------\n",
      "P state:\n",
      "[[ 150.30854278    0.        ]\n",
      " [   0.            8.10810811]]\n",
      "==========================================\n",
      "X state: \n",
      "[[ 5127.05898493]\n",
      " [  288.55147059]]\n",
      "------------------------------------------\n",
      "P state:\n",
      "[[ 126.38282157    0.        ]\n",
      " [   0.            6.61764706]]\n"
     ]
    }
   ],
   "source": [
    "A = np.array([[1, 1], [0, 1]])\n",
    "X = observations[0].reshape(-1, 1)\n",
    "B = np.array([[0.5], [1]])\n",
    "u = 2\n",
    "P = np.array([[400, 0],\n",
    "                       [0,    25]])\n",
    "for i in range(len(observations) - 1):\n",
    "    X, P = predict_state_process(A, X, B, u, P)\n",
    "    P[0, 1] = 0 #keep independent\n",
    "    P[1, 0] = 0 #keep independent\n",
    "    H = np.identity(2)\n",
    "    K = get_kalman_gain(P, H, R)\n",
    "    C = np.identity(2)\n",
    "    Y = get_observation(C, Y=observations[i+1].reshape(-1, 1))\n",
    "    X, P = get_real_state_process(X, K, Y, H, P)\n",
    "\n",
    "    print(\"==========================================\")    \n",
    "    print(\"X state: \")\n",
    "    print(X)    \n",
    "    print(\"------------------------------------------\")\n",
    "    print(\"P state:\")\n",
    "    print(P)"
   ]
  }
 ],
 "metadata": {
  "kernelspec": {
   "display_name": "Python 3",
   "language": "python",
   "name": "python3"
  },
  "language_info": {
   "codemirror_mode": {
    "name": "ipython",
    "version": 3
   },
   "file_extension": ".py",
   "mimetype": "text/x-python",
   "name": "python",
   "nbconvert_exporter": "python",
   "pygments_lexer": "ipython3",
   "version": "3.6.0"
  }
 },
 "nbformat": 4,
 "nbformat_minor": 2
}
